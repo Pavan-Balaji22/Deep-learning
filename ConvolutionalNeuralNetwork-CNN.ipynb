{
 "cells": [
  {
   "cell_type": "code",
   "execution_count": 1,
   "metadata": {
    "id": "24x_WogFMjyF"
   },
   "outputs": [],
   "source": [
    "# importing required modules\n",
    "import idx2numpy\n",
    "import tensorflow as tf\n",
    "import numpy as np\n",
    "import pandas as pd\n",
    "import matplotlib.pyplot as plt \n",
    "import torch\n",
    "import pickle"
   ]
  },
  {
   "cell_type": "code",
   "execution_count": 41,
   "metadata": {
    "id": "m_lK7q-RqjvP"
   },
   "outputs": [],
   "source": [
    "#importing datasets\n",
    "\n",
    "# mnist dataset\n",
    "mnist_train = idx2numpy.convert_from_file(\"train-images.idx3-ubyte\")\n",
    "mnist_trainlabel = idx2numpy.convert_from_file(\"train-labels.idx1-ubyte\")\n",
    "mnist_test = idx2numpy.convert_from_file(\"t10k-images.idx3-ubyte\")\n",
    "mnist_testlabel = idx2numpy.convert_from_file(\"t10k-labels.idx1-ubyte\")\n",
    "mnist_train = np.expand_dims(mnist_train,-1)\n",
    "mnist_test = np.expand_dims(mnist_test,-1)\n",
    "\n"
   ]
  },
  {
   "cell_type": "code",
   "execution_count": 9,
   "metadata": {},
   "outputs": [
    {
     "ename": "KeyError",
     "evalue": "'label_names'",
     "output_type": "error",
     "traceback": [
      "\u001b[1;31m---------------------------------------------------------------------------\u001b[0m",
      "\u001b[1;31mKeyError\u001b[0m                                  Traceback (most recent call last)",
      "\u001b[1;32m<ipython-input-9-12a65e048e5f>\u001b[0m in \u001b[0;36m<module>\u001b[1;34m\u001b[0m\n\u001b[0;32m     27\u001b[0m \u001b[1;33m\u001b[0m\u001b[0m\n\u001b[0;32m     28\u001b[0m \u001b[1;32mwith\u001b[0m \u001b[0mopen\u001b[0m\u001b[1;33m(\u001b[0m\u001b[1;34m\"cifar-10-batches-py/batches.meta\"\u001b[0m\u001b[1;33m,\u001b[0m\u001b[1;34m'rb'\u001b[0m\u001b[1;33m)\u001b[0m \u001b[1;32mas\u001b[0m \u001b[0mx\u001b[0m\u001b[1;33m:\u001b[0m\u001b[1;33m\u001b[0m\u001b[1;33m\u001b[0m\u001b[0m\n\u001b[1;32m---> 29\u001b[1;33m     \u001b[0mbatch_label\u001b[0m \u001b[1;33m=\u001b[0m \u001b[0mpickle\u001b[0m\u001b[1;33m.\u001b[0m\u001b[0mload\u001b[0m\u001b[1;33m(\u001b[0m\u001b[0mx\u001b[0m\u001b[1;33m,\u001b[0m\u001b[0mencoding\u001b[0m\u001b[1;33m=\u001b[0m\u001b[1;34m'bytes'\u001b[0m\u001b[1;33m)\u001b[0m\u001b[1;33m[\u001b[0m\u001b[1;34m\"label_names\"\u001b[0m\u001b[1;33m]\u001b[0m\u001b[1;33m\u001b[0m\u001b[1;33m\u001b[0m\u001b[0m\n\u001b[0m\u001b[0;32m     30\u001b[0m \u001b[0mx\u001b[0m\u001b[1;33m.\u001b[0m\u001b[0mclose\u001b[0m\u001b[1;33m(\u001b[0m\u001b[1;33m)\u001b[0m\u001b[1;33m\u001b[0m\u001b[1;33m\u001b[0m\u001b[0m\n\u001b[0;32m     31\u001b[0m \u001b[1;33m\u001b[0m\u001b[0m\n",
      "\u001b[1;31mKeyError\u001b[0m: 'label_names'"
     ]
    }
   ],
   "source": [
    "#cifar-10 dataset\n",
    "def cifar_10_load(file):\n",
    "    a = list()\n",
    "    b=  list()\n",
    "    \n",
    "    for i in file:\n",
    "        with open(i, 'rb') as data:\n",
    "            dict1 = pickle.load(data, encoding='bytes')\n",
    "            keys = list(dict1.keys())\n",
    "            b.append(dict1[keys[1]])\n",
    "            a.append(dict1[keys[2]].reshape(10000,3,32,32).transpose(0,3,2,1))\n",
    "    \n",
    "    data = a[0]\n",
    "    labels = b[0]\n",
    "    for j in range(1,len(a)):\n",
    "        data = np.concatenate([data,a[j]])\n",
    "        labels = np.concatenate([labels,b[j]])\n",
    "        \n",
    "    del a,b\n",
    "    \n",
    "    return data,labels\n",
    "\n",
    "train_lists = [\"cifar-10-batches-py/data_batch_1\",\n",
    "              \"cifar-10-batches-py/data_batch_2\",\n",
    "              \"cifar-10-batches-py/data_batch_3\",\"cifar-10-batches-py/data_batch_4\",\n",
    "              \"cifar-10-batches-py/data_batch_5\"]\n",
    "\n",
    "with open(\"cifar-10-batches-py/batches.meta\",'rb') as x:\n",
    "    batch_label = pickle.load(x,encoding='bytes')\n",
    "    label_name = batch_label[batch_label]\n",
    "x.close()\n",
    "\n",
    "cifar_10_train,cifar_10_trainlabels = cifar_10_load(train_lists)\n",
    "cifar_10_test,cifar_10_testlabels = cifar_10_load([\"cifar-10-batches-py/test_batch\"])"
   ]
  },
  {
   "cell_type": "code",
   "execution_count": 7,
   "metadata": {},
   "outputs": [
    {
     "data": {
      "text/plain": [
       "{b'num_cases_per_batch': 10000,\n",
       " b'label_names': [b'airplane',\n",
       "  b'automobile',\n",
       "  b'bird',\n",
       "  b'cat',\n",
       "  b'deer',\n",
       "  b'dog',\n",
       "  b'frog',\n",
       "  b'horse',\n",
       "  b'ship',\n",
       "  b'truck'],\n",
       " b'num_vis': 3072}"
      ]
     },
     "execution_count": 7,
     "metadata": {},
     "output_type": "execute_result"
    }
   ],
   "source": [
    "batch_label"
   ]
  },
  {
   "cell_type": "code",
   "execution_count": 36,
   "metadata": {
    "id": "W9feHH4Eqj4Z"
   },
   "outputs": [],
   "source": [
    "# building softmax_reg_model \n",
    "\n",
    "softmax_reg_model = tf.keras.models.Sequential()\n",
    "softmax_reg_model.add(tf.keras.layers.Flatten(input_shape =mnist_train.shape[1:]))\n",
    "softmax_reg_model.add(tf.keras.layers.Dense(128,activation='relu'))\n",
    "softmax_reg_model.add(tf.keras.layers.Dense(128,activation='relu'))\n",
    "softmax_reg_model.add(tf.keras.layers.Dense(128,activation ='relu'))\n",
    "softmax_reg_model.add(tf.keras.layers.Dense(10,activation ='softmax'))\n",
    "\n",
    "softmax_reg_model.compile(optimizer = 'adam',loss=tf.keras.losses.SparseCategoricalCrossentropy(),metrics = ['accuracy'])"
   ]
  },
  {
   "cell_type": "code",
   "execution_count": 37,
   "metadata": {
    "colab": {
     "base_uri": "https://localhost:8080/",
     "height": 323
    },
    "id": "21pErfTy783c",
    "outputId": "b5f2e8c8-debc-4844-ac87-6c6cf8ae437d"
   },
   "outputs": [
    {
     "name": "stdout",
     "output_type": "stream",
     "text": [
      "Model: \"sequential_13\"\n",
      "_________________________________________________________________\n",
      "Layer (type)                 Output Shape              Param #   \n",
      "=================================================================\n",
      "flatten_13 (Flatten)         (None, 784)               0         \n",
      "_________________________________________________________________\n",
      "dense_52 (Dense)             (None, 128)               100480    \n",
      "_________________________________________________________________\n",
      "dense_53 (Dense)             (None, 128)               16512     \n",
      "_________________________________________________________________\n",
      "dense_54 (Dense)             (None, 128)               16512     \n",
      "_________________________________________________________________\n",
      "dense_55 (Dense)             (None, 10)                1290      \n",
      "=================================================================\n",
      "Total params: 134,794\n",
      "Trainable params: 134,794\n",
      "Non-trainable params: 0\n",
      "_________________________________________________________________\n"
     ]
    }
   ],
   "source": [
    "softmax_reg_model.summary()"
   ]
  },
  {
   "cell_type": "code",
   "execution_count": 38,
   "metadata": {
    "colab": {
     "base_uri": "https://localhost:8080/",
     "height": 224
    },
    "id": "9NvHVJhEqkAe",
    "outputId": "0a27ae68-d4df-4f77-b1e0-a72a4b9f98fc"
   },
   "outputs": [
    {
     "name": "stdout",
     "output_type": "stream",
     "text": [
      "Epoch 1/5\n",
      "1500/1500 [==============================] - 3s 2ms/step - loss: 1.1609 - accuracy: 0.8614 - val_loss: 0.3726 - val_accuracy: 0.9137\n",
      "Epoch 2/5\n",
      "1500/1500 [==============================] - 4s 2ms/step - loss: 0.2540 - accuracy: 0.9319 - val_loss: 0.2363 - val_accuracy: 0.9404\n",
      "Epoch 3/5\n",
      "1500/1500 [==============================] - 3s 2ms/step - loss: 0.1907 - accuracy: 0.9474 - val_loss: 0.1720 - val_accuracy: 0.9502\n",
      "Epoch 4/5\n",
      "1500/1500 [==============================] - 3s 2ms/step - loss: 0.1561 - accuracy: 0.9550 - val_loss: 0.1817 - val_accuracy: 0.9499\n",
      "Epoch 5/5\n",
      "1500/1500 [==============================] - 3s 2ms/step - loss: 0.1361 - accuracy: 0.9609 - val_loss: 0.1532 - val_accuracy: 0.9589\n"
     ]
    },
    {
     "data": {
      "text/plain": [
       "<tensorflow.python.keras.callbacks.History at 0x7fd398631be0>"
      ]
     },
     "execution_count": 38,
     "metadata": {
      "tags": []
     },
     "output_type": "execute_result"
    }
   ],
   "source": [
    "softmax_reg_model.fit(mnist_train,mnist_trainlabel,validation_split=.2,epochs=5)"
   ]
  },
  {
   "cell_type": "code",
   "execution_count": null,
   "metadata": {
    "colab": {
     "base_uri": "https://localhost:8080/"
    },
    "id": "Tz-90WPkfUIU",
    "outputId": "6b868e2a-d7c8-47a9-904b-36eda4ac4153"
   },
   "outputs": [
    {
     "name": "stdout",
     "output_type": "stream",
     "text": [
      "313/313 [==============================] - 1s 2ms/step - loss: 0.1966 - accuracy: 0.9472\n"
     ]
    },
    {
     "data": {
      "text/plain": [
       "[0.19657449424266815, 0.9472000002861023]"
      ]
     },
     "execution_count": 55,
     "metadata": {
      "tags": []
     },
     "output_type": "execute_result"
    }
   ],
   "source": [
    "softmax_reg_model.evaluate(mnist_test,mnist_testlabel)"
   ]
  },
  {
   "cell_type": "code",
   "execution_count": 9,
   "metadata": {
    "id": "iY48yznrFc-o"
   },
   "outputs": [],
   "source": [
    "# building Convolution Neural network\n",
    "cnn_model = tf.keras.Sequential()\n",
    "cnn_model.add(tf.keras.layers.Conv2D(128,(2,2),input_shape = train.shape[1:],activation='relu',))\n",
    "cnn_model.add(tf.keras.layers.MaxPool2D((2,2)))\n",
    "cnn_model.add(tf.keras.layers.Conv2D(128,(2,2),activation='relu'))\n",
    "cnn_model.add(tf.keras.layers.MaxPool2D((2,2)))\n",
    "cnn_model.add(tf.keras.layers.Flatten())\n",
    "cnn_model.add(tf.keras.layers.Dense(128,activation='relu'))\n",
    "cnn_model.add(tf.keras.layers.Dense(64,activation='relu'))\n",
    "cnn_model.add(tf.keras.layers.Dense(10,activation='softmax'))\n",
    "\n",
    "cnn_model.compile(optimizer='adam',loss='sparse_categorical_crossentropy',metrics=['accuracy'])"
   ]
  },
  {
   "cell_type": "code",
   "execution_count": null,
   "metadata": {
    "colab": {
     "base_uri": "https://localhost:8080/"
    },
    "id": "xj0-8bBB8JYU",
    "outputId": "79c2b877-7560-420c-8147-6eec83a5d446"
   },
   "outputs": [
    {
     "name": "stdout",
     "output_type": "stream",
     "text": [
      "Model: \"sequential_12\"\n",
      "_________________________________________________________________\n",
      "Layer (type)                 Output Shape              Param #   \n",
      "=================================================================\n",
      "conv2d (Conv2D)              (None, 27, 27, 128)       640       \n",
      "_________________________________________________________________\n",
      "max_pooling2d (MaxPooling2D) (None, 13, 13, 128)       0         \n",
      "_________________________________________________________________\n",
      "conv2d_1 (Conv2D)            (None, 12, 12, 128)       65664     \n",
      "_________________________________________________________________\n",
      "max_pooling2d_1 (MaxPooling2 (None, 6, 6, 128)         0         \n",
      "_________________________________________________________________\n",
      "flatten_12 (Flatten)         (None, 4608)              0         \n",
      "_________________________________________________________________\n",
      "dense_48 (Dense)             (None, 128)               589952    \n",
      "_________________________________________________________________\n",
      "dense_49 (Dense)             (None, 64)                8256      \n",
      "_________________________________________________________________\n",
      "dense_50 (Dense)             (None, 10)                650       \n",
      "=================================================================\n",
      "Total params: 665,162\n",
      "Trainable params: 665,162\n",
      "Non-trainable params: 0\n",
      "_________________________________________________________________\n"
     ]
    }
   ],
   "source": [
    "cnn_model.summary()"
   ]
  },
  {
   "cell_type": "code",
   "execution_count": 10,
   "metadata": {
    "colab": {
     "base_uri": "https://localhost:8080/",
     "height": 224
    },
    "id": "lg13w5M27ZMh",
    "outputId": "b13debb5-fda1-4f92-c959-10b052942a1b"
   },
   "outputs": [
    {
     "name": "stdout",
     "output_type": "stream",
     "text": [
      "Epoch 1/5\n",
      "1500/1500 [==============================] - 5s 4ms/step - loss: 0.2907 - accuracy: 0.9442 - val_loss: 0.0871 - val_accuracy: 0.9725\n",
      "Epoch 2/5\n",
      "1500/1500 [==============================] - 5s 3ms/step - loss: 0.0754 - accuracy: 0.9765 - val_loss: 0.0728 - val_accuracy: 0.9792\n",
      "Epoch 3/5\n",
      "1500/1500 [==============================] - 5s 4ms/step - loss: 0.0572 - accuracy: 0.9826 - val_loss: 0.0633 - val_accuracy: 0.9805\n",
      "Epoch 4/5\n",
      "1500/1500 [==============================] - 5s 4ms/step - loss: 0.0472 - accuracy: 0.9847 - val_loss: 0.0687 - val_accuracy: 0.9810\n",
      "Epoch 5/5\n",
      "1500/1500 [==============================] - 5s 3ms/step - loss: 0.0382 - accuracy: 0.9885 - val_loss: 0.0772 - val_accuracy: 0.9804\n"
     ]
    },
    {
     "data": {
      "text/plain": [
       "<tensorflow.python.keras.callbacks.History at 0x7f4520064828>"
      ]
     },
     "execution_count": 10,
     "metadata": {
      "tags": []
     },
     "output_type": "execute_result"
    }
   ],
   "source": [
    "cnn_model.fit(mnist_train,mnist_trainlabel,epochs=5,validation_split=.2)"
   ]
  },
  {
   "cell_type": "code",
   "execution_count": null,
   "metadata": {
    "colab": {
     "base_uri": "https://localhost:8080/"
    },
    "id": "weFrWTKRepCJ",
    "outputId": "7b3ff78a-e173-4483-a610-10117a14623d"
   },
   "outputs": [
    {
     "name": "stdout",
     "output_type": "stream",
     "text": [
      "313/313 [==============================] - 1s 2ms/step - loss: 0.0608 - accuracy: 0.9829\n"
     ]
    },
    {
     "data": {
      "text/plain": [
       "[0.06083374470472336, 0.9829000234603882]"
      ]
     },
     "execution_count": 45,
     "metadata": {
      "tags": []
     },
     "output_type": "execute_result"
    }
   ],
   "source": [
    "cnn_model.evaluate(mnist_test,mnist_testlabel)"
   ]
  },
  {
   "cell_type": "code",
   "execution_count": 12,
   "metadata": {
    "id": "nveqMrHu8b1j"
   },
   "outputs": [],
   "source": [
    "#building muilti layer preceptron model\n",
    "\n",
    "\n",
    "MLP_model = tf.keras.models.Sequential()\n",
    "MLP_model.add(tf.keras.layers.Flatten(input_shape = (28,28)))\n",
    "MLP_model.add(tf.keras.layers.Dense(124,activation='relu'))\n",
    "MLP_model.add(tf.keras.layers.Dense(124,activation='relu'))\n",
    "MLP_model.add(tf.keras.layers.Dense(124,activation ='sigmoid'))\n",
    "MLP_model.add(tf.keras.layers.Dense(10))\n",
    "\n",
    "MLP_model.compile(optimizer='adam',\n",
    "                  loss=tf.keras.losses.SparseCategoricalCrossentropy(from_logits=True),metrics=['accuracy'])"
   ]
  },
  {
   "cell_type": "code",
   "execution_count": 13,
   "metadata": {
    "colab": {
     "base_uri": "https://localhost:8080/",
     "height": 323
    },
    "id": "vlz69AMPeK1l",
    "outputId": "5a7e7fb7-67a4-4315-b45a-aff5dff505cb"
   },
   "outputs": [
    {
     "name": "stdout",
     "output_type": "stream",
     "text": [
      "Model: \"sequential_4\"\n",
      "_________________________________________________________________\n",
      "Layer (type)                 Output Shape              Param #   \n",
      "=================================================================\n",
      "flatten_4 (Flatten)          (None, 784)               0         \n",
      "_________________________________________________________________\n",
      "dense_14 (Dense)             (None, 124)               97340     \n",
      "_________________________________________________________________\n",
      "dense_15 (Dense)             (None, 124)               15500     \n",
      "_________________________________________________________________\n",
      "dense_16 (Dense)             (None, 124)               15500     \n",
      "_________________________________________________________________\n",
      "dense_17 (Dense)             (None, 10)                1250      \n",
      "=================================================================\n",
      "Total params: 129,590\n",
      "Trainable params: 129,590\n",
      "Non-trainable params: 0\n",
      "_________________________________________________________________\n"
     ]
    }
   ],
   "source": [
    "MLP_model.summary()"
   ]
  },
  {
   "cell_type": "code",
   "execution_count": 15,
   "metadata": {
    "colab": {
     "base_uri": "https://localhost:8080/",
     "height": 163
    },
    "id": "ijFKmhnQHrZX",
    "outputId": "5daf4425-d70b-4c41-a967-4be797ff1a7f"
   },
   "outputs": [
    {
     "ename": "NameError",
     "evalue": "ignored",
     "output_type": "error",
     "traceback": [
      "\u001b[0;31m---------------------------------------------------------------------------\u001b[0m",
      "\u001b[0;31mNameError\u001b[0m                                 Traceback (most recent call last)",
      "\u001b[0;32m<ipython-input-15-b7a7ef7e3528>\u001b[0m in \u001b[0;36m<module>\u001b[0;34m()\u001b[0m\n\u001b[0;32m----> 1\u001b[0;31m \u001b[0mMLP_model\u001b[0m\u001b[0;34m.\u001b[0m\u001b[0mfit\u001b[0m\u001b[0;34m(\u001b[0m\u001b[0mmnist_train\u001b[0m\u001b[0;34m,\u001b[0m\u001b[0mmnist_trainlabel\u001b[0m\u001b[0;34m,\u001b[0m\u001b[0mepochs\u001b[0m\u001b[0;34m=\u001b[0m\u001b[0;36m5\u001b[0m\u001b[0;34m,\u001b[0m\u001b[0mvalidation_split\u001b[0m\u001b[0;34m=\u001b[0m\u001b[0;36m0.2\u001b[0m\u001b[0;34m)\u001b[0m\u001b[0;34m\u001b[0m\u001b[0;34m\u001b[0m\u001b[0m\n\u001b[0m",
      "\u001b[0;31mNameError\u001b[0m: name 'mnist_train' is not defined"
     ]
    }
   ],
   "source": [
    "MLP_model.fit(mnist_train,mnist_trainlabel,epochs=5,validation_split=0.2)"
   ]
  },
  {
   "cell_type": "code",
   "execution_count": null,
   "metadata": {
    "colab": {
     "base_uri": "https://localhost:8080/"
    },
    "id": "_AqKjDQJH5AU",
    "outputId": "23ebc1a5-7439-4ee0-a6a0-f616baab2fe8"
   },
   "outputs": [
    {
     "name": "stdout",
     "output_type": "stream",
     "text": [
      "Model: \"sequential_11\"\n",
      "_________________________________________________________________\n",
      "Layer (type)                 Output Shape              Param #   \n",
      "=================================================================\n",
      "flatten_11 (Flatten)         (None, 784)               0         \n",
      "_________________________________________________________________\n",
      "dense_44 (Dense)             (None, 124)               97340     \n",
      "_________________________________________________________________\n",
      "activation_22 (Activation)   (None, 124)               0         \n",
      "_________________________________________________________________\n",
      "dense_45 (Dense)             (None, 124)               15500     \n",
      "_________________________________________________________________\n",
      "activation_23 (Activation)   (None, 124)               0         \n",
      "_________________________________________________________________\n",
      "dense_46 (Dense)             (None, 124)               15500     \n",
      "_________________________________________________________________\n",
      "dense_47 (Dense)             (None, 10)                1250      \n",
      "=================================================================\n",
      "Total params: 129,590\n",
      "Trainable params: 129,590\n",
      "Non-trainable params: 0\n",
      "_________________________________________________________________\n"
     ]
    }
   ],
   "source": [
    "MLP_model.summary()"
   ]
  }
 ],
 "metadata": {
  "accelerator": "GPU",
  "colab": {
   "collapsed_sections": [],
   "name": "Assignment 2.ipynb",
   "provenance": []
  },
  "kernelspec": {
   "display_name": "Python 3",
   "language": "python",
   "name": "python3"
  },
  "language_info": {
   "codemirror_mode": {
    "name": "ipython",
    "version": 3
   },
   "file_extension": ".py",
   "mimetype": "text/x-python",
   "name": "python",
   "nbconvert_exporter": "python",
   "pygments_lexer": "ipython3",
   "version": "3.7.7"
  },
  "varInspector": {
   "cols": {
    "lenName": 16,
    "lenType": 16,
    "lenVar": 40
   },
   "kernels_config": {
    "python": {
     "delete_cmd_postfix": "",
     "delete_cmd_prefix": "del ",
     "library": "var_list.py",
     "varRefreshCmd": "print(var_dic_list())"
    },
    "r": {
     "delete_cmd_postfix": ") ",
     "delete_cmd_prefix": "rm(",
     "library": "var_list.r",
     "varRefreshCmd": "cat(var_dic_list()) "
    }
   },
   "position": {
    "height": "144px",
    "left": "990px",
    "right": "20px",
    "top": "119px",
    "width": "350px"
   },
   "types_to_exclude": [
    "module",
    "function",
    "builtin_function_or_method",
    "instance",
    "_Feature"
   ],
   "window_display": true
  }
 },
 "nbformat": 4,
 "nbformat_minor": 1
}
